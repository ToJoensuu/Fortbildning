{
 "cells": [
  {
   "cell_type": "markdown",
   "id": "323e59d9",
   "metadata": {},
   "source": [
    "hej"
   ]
  },
  {
   "cell_type": "markdown",
   "id": "be56c3db",
   "metadata": {},
   "source": [
    "# Rubrik"
   ]
  },
  {
   "cell_type": "code",
   "execution_count": 5,
   "id": "991e4bdb",
   "metadata": {},
   "outputs": [],
   "source": [
    "# variabler\n"
   ]
  },
  {
   "cell_type": "code",
   "execution_count": 6,
   "id": "7d27b233",
   "metadata": {},
   "outputs": [
    {
     "name": "stdout",
     "output_type": "stream",
     "text": [
      "Hello World!\n"
     ]
    }
   ],
   "source": [
    "print(\"Hello World!\")"
   ]
  },
  {
   "cell_type": "code",
   "execution_count": 11,
   "id": "1a0ce959",
   "metadata": {},
   "outputs": [
    {
     "data": {
      "text/plain": [
       "9"
      ]
     },
     "execution_count": 11,
     "metadata": {},
     "output_type": "execute_result"
    }
   ],
   "source": [
    "# variabler\n",
    "a=3\n",
    "dvargar=7\n",
    "a**2"
   ]
  },
  {
   "cell_type": "code",
   "execution_count": 20,
   "id": "a8c6429f",
   "metadata": {},
   "outputs": [],
   "source": [
    "# funktionspaket\n",
    "import numpy as np"
   ]
  },
  {
   "cell_type": "code",
   "execution_count": 18,
   "id": "9ab69ebf",
   "metadata": {},
   "outputs": [
    {
     "data": {
      "text/plain": [
       "1.2246467991473532e-16"
      ]
     },
     "execution_count": 18,
     "metadata": {},
     "output_type": "execute_result"
    }
   ],
   "source": [
    "numpy.sin(3.141592653589793)"
   ]
  },
  {
   "cell_type": "code",
   "execution_count": 16,
   "id": "1dc5e750",
   "metadata": {},
   "outputs": [
    {
     "data": {
      "text/plain": [
       "3.141592653589793"
      ]
     },
     "execution_count": 16,
     "metadata": {},
     "output_type": "execute_result"
    }
   ],
   "source": [
    "numpy.pi"
   ]
  },
  {
   "cell_type": "code",
   "execution_count": 21,
   "id": "0294051e",
   "metadata": {},
   "outputs": [
    {
     "data": {
      "text/plain": [
       "3.141592653589793"
      ]
     },
     "execution_count": 21,
     "metadata": {},
     "output_type": "execute_result"
    }
   ],
   "source": [
    "np.pi"
   ]
  },
  {
   "cell_type": "code",
   "execution_count": 22,
   "id": "cfdfc239",
   "metadata": {},
   "outputs": [],
   "source": [
    "lista=[1,3,5,7,10]"
   ]
  },
  {
   "cell_type": "code",
   "execution_count": 23,
   "id": "db1da9cc",
   "metadata": {},
   "outputs": [
    {
     "name": "stdout",
     "output_type": "stream",
     "text": [
      "[1, 3, 5, 7, 10]\n"
     ]
    }
   ],
   "source": [
    "print(lista)"
   ]
  },
  {
   "cell_type": "code",
   "execution_count": 26,
   "id": "6e3ef0bc",
   "metadata": {},
   "outputs": [
    {
     "data": {
      "text/plain": [
       "5.2"
      ]
     },
     "execution_count": 26,
     "metadata": {},
     "output_type": "execute_result"
    }
   ],
   "source": [
    "np.mean(lista) #beräknar medeltal"
   ]
  },
  {
   "cell_type": "markdown",
   "id": "6681c1c4",
   "metadata": {},
   "source": [
    "[Webbsidan](https://opendata-education.github.io/fortbildning/intro.html)"
   ]
  },
  {
   "cell_type": "markdown",
   "id": "927cd656",
   "metadata": {},
   "source": [
    "#### Bild\n",
    "![bild](https://enklarebilliv.se/app/uploads/2018/03/politik.jpg)"
   ]
  },
  {
   "cell_type": "markdown",
   "id": "880f7fe7",
   "metadata": {},
   "source": [
    "![bild](politik.jpg)"
   ]
  },
  {
   "cell_type": "markdown",
   "id": "0c5c7f95",
   "metadata": {},
   "source": [
    "# Latex\n",
    "$$\\sqrt{x}-1=x$$"
   ]
  },
  {
   "cell_type": "markdown",
   "id": "5970ce64",
   "metadata": {},
   "source": [
    "Man kan lägga in en bild med kommandot ``![](länk)\n",
    "``\n",
    "Man kan skriva python-kod\n",
    "````python\n",
    "import numpy as np\n",
    "````"
   ]
  },
  {
   "cell_type": "code",
   "execution_count": null,
   "id": "149e0c20",
   "metadata": {},
   "outputs": [],
   "source": []
  }
 ],
 "metadata": {
  "kernelspec": {
   "display_name": "Python 3",
   "language": "python",
   "name": "python3"
  },
  "language_info": {
   "codemirror_mode": {
    "name": "ipython",
    "version": 3
   },
   "file_extension": ".py",
   "mimetype": "text/x-python",
   "name": "python",
   "nbconvert_exporter": "python",
   "pygments_lexer": "ipython3",
   "version": "3.8.8"
  }
 },
 "nbformat": 4,
 "nbformat_minor": 5
}
